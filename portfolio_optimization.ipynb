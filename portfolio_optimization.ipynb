{
 "cells": [
  {
   "cell_type": "code",
   "execution_count": 3,
   "metadata": {},
   "outputs": [
    {
     "ename": "ModuleNotFoundError",
     "evalue": "No module named 'pandas'",
     "output_type": "error",
     "traceback": [
      "\u001b[0;31m---------------------------------------------------------------------------\u001b[0m",
      "\u001b[0;31mModuleNotFoundError\u001b[0m                       Traceback (most recent call last)",
      "\u001b[1;32m/Users/oscarromero/Documents/QuantFinance/GSanchez_codes/portfolio_optimization.ipynb Cell 1\u001b[0m line \u001b[0;36m1\n\u001b[0;32m----> <a href='vscode-notebook-cell:/Users/oscarromero/Documents/QuantFinance/GSanchez_codes/portfolio_optimization.ipynb#W0sZmlsZQ%3D%3D?line=0'>1</a>\u001b[0m \u001b[39mimport\u001b[39;00m \u001b[39mpandas\u001b[39;00m \u001b[39mas\u001b[39;00m \u001b[39mpd\u001b[39;00m\n\u001b[1;32m      <a href='vscode-notebook-cell:/Users/oscarromero/Documents/QuantFinance/GSanchez_codes/portfolio_optimization.ipynb#W0sZmlsZQ%3D%3D?line=1'>2</a>\u001b[0m \u001b[39mfrom\u001b[39;00m \u001b[39mdatetime\u001b[39;00m \u001b[39mimport\u001b[39;00m datetime, timedelta\n\u001b[1;32m      <a href='vscode-notebook-cell:/Users/oscarromero/Documents/QuantFinance/GSanchez_codes/portfolio_optimization.ipynb#W0sZmlsZQ%3D%3D?line=2'>3</a>\u001b[0m \u001b[39mimport\u001b[39;00m \u001b[39mnumpy\u001b[39;00m \u001b[39mas\u001b[39;00m \u001b[39mnp\u001b[39;00m  \n",
      "\u001b[0;31mModuleNotFoundError\u001b[0m: No module named 'pandas'"
     ]
    }
   ],
   "source": [
    "import yfinance as fy \n",
    "import pandas as pd\n",
    "from datetime import datetime, timedelta\n",
    "import numpy as np  \n",
    "from scipy.optimize import minimize"
   ]
  },
  {
   "cell_type": "code",
   "execution_count": 1,
   "metadata": {},
   "outputs": [
    {
     "ename": "NameError",
     "evalue": "name 'datetime' is not defined",
     "output_type": "error",
     "traceback": [
      "\u001b[0;31m---------------------------------------------------------------------------\u001b[0m",
      "\u001b[0;31mNameError\u001b[0m                                 Traceback (most recent call last)",
      "\u001b[1;32m/Users/oscarromero/Documents/QuantFinance/GSanchez_codes/portfolio_optimization.ipynb Cell 2\u001b[0m line \u001b[0;36m5\n\u001b[1;32m      <a href='vscode-notebook-cell:/Users/oscarromero/Documents/QuantFinance/GSanchez_codes/portfolio_optimization.ipynb#W1sZmlsZQ%3D%3D?line=0'>1</a>\u001b[0m \u001b[39m#Define the tickers\u001b[39;00m\n\u001b[1;32m      <a href='vscode-notebook-cell:/Users/oscarromero/Documents/QuantFinance/GSanchez_codes/portfolio_optimization.ipynb#W1sZmlsZQ%3D%3D?line=1'>2</a>\u001b[0m \u001b[39m#sp500, bond market etf, gold, nasdaq, Vanguard stock index (total stock market)\u001b[39;00m\n\u001b[1;32m      <a href='vscode-notebook-cell:/Users/oscarromero/Documents/QuantFinance/GSanchez_codes/portfolio_optimization.ipynb#W1sZmlsZQ%3D%3D?line=2'>3</a>\u001b[0m tickers \u001b[39m=\u001b[39m [\u001b[39m'\u001b[39m\u001b[39mSPY\u001b[39m\u001b[39m'\u001b[39m, \u001b[39m'\u001b[39m\u001b[39mBND\u001b[39m\u001b[39m'\u001b[39m, \u001b[39m'\u001b[39m\u001b[39mGLD\u001b[39m\u001b[39m'\u001b[39m, \u001b[39m'\u001b[39m\u001b[39mQQQ\u001b[39m\u001b[39m'\u001b[39m, \u001b[39m'\u001b[39m\u001b[39mVTI\u001b[39m\u001b[39m'\u001b[39m]\n\u001b[0;32m----> <a href='vscode-notebook-cell:/Users/oscarromero/Documents/QuantFinance/GSanchez_codes/portfolio_optimization.ipynb#W1sZmlsZQ%3D%3D?line=4'>5</a>\u001b[0m end_date \u001b[39m=\u001b[39m datetime\u001b[39m.\u001b[39mtoday()\n\u001b[1;32m      <a href='vscode-notebook-cell:/Users/oscarromero/Documents/QuantFinance/GSanchez_codes/portfolio_optimization.ipynb#W1sZmlsZQ%3D%3D?line=5'>6</a>\u001b[0m start_date \u001b[39m=\u001b[39m end_date \u001b[39m-\u001b[39m timedelta(days\u001b[39m=\u001b[39m\u001b[39m5\u001b[39m\u001b[39m*\u001b[39m\u001b[39m365\u001b[39m)\n\u001b[1;32m      <a href='vscode-notebook-cell:/Users/oscarromero/Documents/QuantFinance/GSanchez_codes/portfolio_optimization.ipynb#W1sZmlsZQ%3D%3D?line=6'>7</a>\u001b[0m \u001b[39mprint\u001b[39m(start_date)\n",
      "\u001b[0;31mNameError\u001b[0m: name 'datetime' is not defined"
     ]
    }
   ],
   "source": [
    "\n",
    "#Define the tickers\n",
    "#sp500, bond market etf, gold, nasdaq, Vanguard stock index (total stock market)\n",
    "tickers = ['SPY', 'BND', 'GLD', 'QQQ', 'VTI']\n",
    "\n",
    "end_date = datetime.today()\n",
    "start_date = end_date - timedelta(days=5*365)\n",
    "print(start_date)\n",
    "#Download Adjusted Close Prices"
   ]
  },
  {
   "cell_type": "code",
   "execution_count": null,
   "metadata": {},
   "outputs": [],
   "source": []
  }
 ],
 "metadata": {
  "kernelspec": {
   "display_name": "Python 3",
   "language": "python",
   "name": "python3"
  },
  "language_info": {
   "codemirror_mode": {
    "name": "ipython",
    "version": 3
   },
   "file_extension": ".py",
   "mimetype": "text/x-python",
   "name": "python",
   "nbconvert_exporter": "python",
   "pygments_lexer": "ipython3",
   "version": "3.9.6"
  },
  "orig_nbformat": 4
 },
 "nbformat": 4,
 "nbformat_minor": 2
}
